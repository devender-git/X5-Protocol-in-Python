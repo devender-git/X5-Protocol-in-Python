{
 "cells": [
  {
   "cell_type": "code",
   "execution_count": 38,
   "id": "13bde981",
   "metadata": {},
   "outputs": [],
   "source": [
    "import json\n",
    "import hashlib\n",
    "import base64\n",
    "import pandas as pd\n",
    "import math\n",
    "import time\n",
    "import requests\n",
    "import datetime"
   ]
  },
  {
   "cell_type": "code",
   "execution_count": 39,
   "id": "2e7386d5",
   "metadata": {},
   "outputs": [],
   "source": [
    "appId = 'xm_india'\n",
    "appKey = 'QoTyhvmuSBCUlkYFfRGw0JZNzidWMgXsKpD6VHE3j72A8t1Lreb5xOP9nq4Iac'"
   ]
  },
  {
   "cell_type": "code",
   "execution_count": 40,
   "id": "95592bef",
   "metadata": {},
   "outputs": [],
   "source": [
    "cnData = pd.read_excel('../InputData/InputUpload.xlsx')"
   ]
  },
  {
   "cell_type": "code",
   "execution_count": 41,
   "id": "9debccb9",
   "metadata": {},
   "outputs": [],
   "source": [
    "cnData[\"API_Response\"]=cnData[\"API_Response\"].values.astype('str')"
   ]
  },
  {
   "cell_type": "code",
   "execution_count": 42,
   "id": "1729ad07",
   "metadata": {},
   "outputs": [],
   "source": [
    "for index in range(len(cnData)):\n",
    "    if (math.isnan(cnData.at[index,'SAP_Code']) == False and math.isnan(cnData.at[index,'CN_Number']) == False):\n",
    "        sap_code = int(cnData.at[index,'SAP_Code'])\n",
    "        cn_no = str(\"0\" + str(cnData.at[index,'CN_Number']))\n",
    "        pos_date = cnData.at[index,'Posting_Date']\n",
    "        pos_date_str = pos_date.strftime('%Y-%m-%d')\n",
    "        pos_date_dt = datetime.datetime.strptime(pos_date_str, \"%Y-%m-%d\")\n",
    "        ins_date = time.mktime(pos_date_dt.timetuple())\n",
    "        file_link = cnData.at[index,'URL']\n",
    "        #Scheme_Ref_No = cnData.at[index,\"Scheme_Ref_No\"]\n",
    "        body = {\n",
    "                \"sap_code\": sap_code,\n",
    "                \"cn_no\": cn_no,\n",
    "                \"ins_date\": ins_date,\n",
    "                \"file_link\": file_link,\n",
    "                # \"scheme_ref_no\": Scheme_Ref_No\n",
    "        }\n",
    "        # print(body)\n",
    "        body = json.dumps(body)\n",
    "        #print((appId + body + appKey).encode())\n",
    "        sign = hashlib.md5((appId + body + appKey).encode())\n",
    "        sign = sign.hexdigest()\n",
    "        sign = sign.upper()\n",
    "        # print(sign)\n",
    "        data = {\n",
    "            'header':{\n",
    "                'appid':appId,\n",
    "                'sign':sign\n",
    "            },\n",
    "            'body':body\n",
    "        }\n",
    "        base64_bytes = base64.b64encode(json.dumps(data).encode())\n",
    "        #print(base64_bytes)\n",
    "        \n",
    "        # api-endpoint\n",
    "        URL = \"https://in-dms.pre.mi.com/api/cn-copy/create-cn/\"\n",
    "        \n",
    "        # defining a params dict for the parameters to be sent to the API\n",
    "        data = base64_bytes\n",
    "        \n",
    "        # sending post request and saving response as response object\n",
    "        r = requests.post(url = URL, data = data)\n",
    "\n",
    "        # extracting response text\n",
    "        response = r.json()\n",
    "        cnData.at[index,'API_Response'] = str(response)\n",
    "        \n",
    "       \n",
    "        \n",
    "        \n"
   ]
  },
  {
   "cell_type": "code",
   "execution_count": 43,
   "id": "8e6af1af",
   "metadata": {},
   "outputs": [],
   "source": [
    "cnData.to_excel('API_Response.xlsx')"
   ]
  },
  {
   "cell_type": "code",
   "execution_count": null,
   "id": "61555360",
   "metadata": {},
   "outputs": [],
   "source": []
  }
 ],
 "metadata": {
  "kernelspec": {
   "display_name": "Python 3 (ipykernel)",
   "language": "python",
   "name": "python3"
  },
  "language_info": {
   "codemirror_mode": {
    "name": "ipython",
    "version": 3
   },
   "file_extension": ".py",
   "mimetype": "text/x-python",
   "name": "python",
   "nbconvert_exporter": "python",
   "pygments_lexer": "ipython3",
   "version": "3.9.7"
  }
 },
 "nbformat": 4,
 "nbformat_minor": 5
}
